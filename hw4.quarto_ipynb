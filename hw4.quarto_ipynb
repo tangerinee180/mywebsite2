{
  "cells": [
    {
      "cell_type": "markdown",
      "metadata": {},
      "source": [
        "---\n",
        "title: \"hw4\"\n",
        "jupyter: python3\n",
        "---\n",
        "\n",
        "\n",
        "표본 분산 계산 시 왜 n-1로 나누는지 알아보도록 하겠습니다.\n",
        "\n",
        "균일분포 (3, 7)에서 20개의 표본을 뽑아서 분산을 2가지 방법으로 추정해보세요.\n",
        "\n",
        "n-1로 나눈 것을 s_2, n으로 나눈 것을 k_2로 정의하고, s_2의 분포와 k_2의 분포를 그려주세요! (10000개 사용) 각 분포 그래프에 모분산의 위치에 녹색 막대를 그려주세요. 결과를 살펴보고, 왜 n-1로 나눈 것을 분산을 추정하는 지표로 사용하는 것이 타당한지 써주세요!\n"
      ],
      "id": "4dbacbc8"
    },
    {
      "cell_type": "code",
      "metadata": {},
      "source": [
        "import numpy as np\n",
        "from scipy.stats import uniform\n",
        "import seaborn as sns\n",
        "import matplotlib.pyplot as plt    \n",
        "\n",
        "#U~(3,7)\n",
        "x = uniform.rvs(loc=3, scale=4, size=200000).reshape(-1, 20)\n",
        "x_var = uniform.var(3,4)\n",
        "x_mean = x.mean(axis=1)\n",
        "\n",
        "\n",
        "s_2_list = []\n",
        "k_2_list = []\n",
        "\n",
        "for i in range(10000):\n",
        "    row_variance = np.sum((x[i] - x_mean[i])**2)\n",
        "    s_2_list.append(row_variance/19)\n",
        "    k_2_list.append(row_variance/20)\n",
        "\n",
        "\n",
        "plt.hist(s_2_list, color = \"salmon\")\n",
        "plt.axvline(x_var, color=\"green\")\n",
        "plt.show()\n",
        "plt.clf()\n"
      ],
      "id": "f49aabbf",
      "execution_count": null,
      "outputs": []
    },
    {
      "cell_type": "code",
      "metadata": {},
      "source": [
        "mo_var = uniform.var(loc=3,scale=4)\n",
        "plt.hist(k_2_list, color = \"salmon\")\n",
        "plt.axvline(x_var, color=\"red\")\n",
        "plt.show()\n",
        "plt.clf()"
      ],
      "id": "49d6c0aa",
      "execution_count": null,
      "outputs": []
    },
    {
      "cell_type": "code",
      "metadata": {},
      "source": [
        "np.mean(s_2_list) "
      ],
      "id": "579504ff",
      "execution_count": null,
      "outputs": []
    },
    {
      "cell_type": "code",
      "metadata": {},
      "source": [
        "np.mean(k_2_list)"
      ],
      "id": "dbb5e4f1",
      "execution_count": null,
      "outputs": []
    },
    {
      "cell_type": "markdown",
      "metadata": {},
      "source": [
        "3.  그래프 상으론 차이를 잘 모르겠지만 두 결과 값과\n"
      ],
      "id": "60166705"
    },
    {
      "cell_type": "code",
      "metadata": {},
      "source": [
        "x_var = uniform.var(3,4)\n",
        "x_var"
      ],
      "id": "2f6e4fb3",
      "execution_count": null,
      "outputs": []
    },
    {
      "cell_type": "markdown",
      "metadata": {},
      "source": [
        "원 함수의 분산 값을 비교해보니 s_2가 값이 더 비슷했다.\n",
        "\n",
        "따라서 n-1이 s_2 의 지표로 쓰이는 것이 타당하다."
      ],
      "id": "4f01f44a"
    }
  ],
  "metadata": {
    "kernelspec": {
      "name": "python3",
      "language": "python",
      "display_name": "Python 3 (ipykernel)",
      "path": "C:\\DS\\python\\Python312\\share\\jupyter\\kernels\\python3"
    }
  },
  "nbformat": 4,
  "nbformat_minor": 5
}