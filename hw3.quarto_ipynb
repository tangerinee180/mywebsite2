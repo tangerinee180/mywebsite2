{
  "cells": [
    {
      "cell_type": "markdown",
      "metadata": {},
      "source": [
        "---\n",
        "title: \"HW3\"\n",
        "jupyter: python3\n",
        "---\n",
        "\n",
        "\n",
        "\n",
        "\n",
        "## 1. 숙제 Qmd 1. 정규 분포 pdf 값을 계산하는 자신만의 파이썬 함수를 정의하고, 정규분포 mu = 3 , sigma = 2 의 pdf를 그릴 것.\n"
      ],
      "id": "f963bbcc"
    },
    {
      "cell_type": "code",
      "metadata": {},
      "source": [
        "import\n",
        "import pandas as pd\n",
        "import matplotlib.pyplot as plt\n",
        "import seaborn as sns\n",
        "import numpy as np\n",
        "\n",
        "def my_pdf(x,mu,sigma):\n",
        "    import math \n",
        "    return (1/(sigma*((2*math.pi)**0.5)))* math.exp( ( -0.5) *( ((x-mu)/sigma) **2))\n",
        "\n",
        "my_pdf(0,0,1)\n",
        "\n",
        "\n",
        "a_lin = np.linspace(-4,10,1000)\n",
        "\n",
        "a_arr = np.array([])\n",
        "for x in a_lin :\n",
        "    a_arr = np.append(a_arr,my_pdf(x,3,2))\n",
        "\n",
        "\n",
        "plt.plot(a_lin,a_arr)\n",
        "plt.show()\n",
        "plt.clf()"
      ],
      "id": "675cdeb3",
      "execution_count": null,
      "outputs": []
    },
    {
      "cell_type": "markdown",
      "metadata": {},
      "source": [
        "## 2. 파이썬 scipy 패키지 사용해서 다음과 같은 확률을 구하시오.\n"
      ],
      "id": "33c34101"
    },
    {
      "cell_type": "code",
      "metadata": {},
      "source": [
        "#X ~ N(2, 3^2)\n",
        "\n",
        " \n",
        "# 2-1) P(X < 3)\n",
        "norm.cdf(3,loc = 2,scale = 3)\n",
        "\n",
        "# 2-2) P(2 < X < 5)\n",
        "norm.cdf(5,loc = 2,scale = 3) - norm.cdf(2,loc = 2,scale = 3)\n",
        "\n",
        "#2-3) P(X < 3 or X > 7)\n",
        "1 - (norm.cdf(7,loc = 2,scale = 3) - norm.cdf(3,loc = 2,scale = 3))\n"
      ],
      "id": "26a6ba49",
      "execution_count": null,
      "outputs": []
    },
    {
      "cell_type": "markdown",
      "metadata": {},
      "source": [
        "## 3. LS 빅데이터 스쿨 학생들의 중간고사 점수는 평균이 30이고, 분산이 4인 정규분포를 따른다. 상위 5%에 해당하는 학생의 점수는?\n"
      ],
      "id": "0fed39fd"
    },
    {
      "cell_type": "code",
      "metadata": {},
      "source": [
        "norm.ppf(0.95,loc = 30,scale = 2)"
      ],
      "id": "1396bb3e",
      "execution_count": null,
      "outputs": []
    }
  ],
  "metadata": {
    "kernelspec": {
      "name": "python3",
      "language": "python",
      "display_name": "Python 3 (ipykernel)",
      "path": "C:\\DS\\python\\Python312\\share\\jupyter\\kernels\\python3"
    }
  },
  "nbformat": 4,
  "nbformat_minor": 5
}